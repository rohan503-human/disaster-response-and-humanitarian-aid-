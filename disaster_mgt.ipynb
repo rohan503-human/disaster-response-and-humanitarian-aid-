{
 "cells": [
  {
   "cell_type": "code",
   "execution_count": 2,
   "metadata": {},
   "outputs": [],
   "source": [
    "import pandas as pd\n",
    "import numpy as np"
   ]
  },
  {
   "cell_type": "code",
   "execution_count": 3,
   "metadata": {},
   "outputs": [],
   "source": [
    "df = pd.read_csv('weather_disaster_dataset.csv')"
   ]
  },
  {
   "cell_type": "code",
   "execution_count": 4,
   "metadata": {},
   "outputs": [],
   "source": [
    "thresholds = {\n",
    "    'Temperature_C': {'low': -10, 'high': 40},   # Dangerous temp below -10 or above 40°C\n",
    "    'Humidity_%': {'low': 10, 'high': 85},       # Dangerous humidity above 85%\n",
    "    'Rain_mm': {'low': 0, 'high': 100},          # Dangerous rain above 100 mm\n",
    "    'Wind_Speed_kmph': {'low': 0, 'high': 70},   # Dangerous wind speed above 70 km/h\n",
    "    'Pressure_hPa': {'low': 980, 'high': 1050},  # Dangerous pressure below 980 hPa (storm)\n",
    "    'Visibility_km': {'low': 1, 'high': 20},     # Dangerous visibility below 1 km\n",
    "    'Cloud_Cover_%': {'low': 0, 'high': 100}     # High cloud cover (informational)\n",
    "}"
   ]
  },
  {
   "cell_type": "code",
   "execution_count": 5,
   "metadata": {},
   "outputs": [],
   "source": [
    "def calculate_risk(row):\n",
    "    risk_score = 0\n",
    "    danger = []\n",
    "    \n",
    "    # Check each parameter against its threshold\n",
    "    for col, limits in thresholds.items():\n",
    "        if col in row:\n",
    "            if row[col] < limits['low'] or row[col] > limits['high']:\n",
    "                risk_score += 1\n",
    "                danger.append(col)\n",
    "    \n",
    "    return risk_score, danger"
   ]
  },
  {
   "cell_type": "code",
   "execution_count": 6,
   "metadata": {},
   "outputs": [],
   "source": [
    "df['Risk_Score'], df['Danger_Parameters'] = zip(*df.apply(calculate_risk, axis=1))"
   ]
  },
  {
   "cell_type": "code",
   "execution_count": 7,
   "metadata": {},
   "outputs": [],
   "source": [
    "def alert_level(row):\n",
    "    if row['Risk_Score'] >= 4:\n",
    "        return 'Red Alert'\n",
    "    elif row['Risk_Score'] == 3:\n",
    "        return 'Orange Alert'\n",
    "    elif row['Rain_mm'] > 100:  # Specific high risk for rain\n",
    "        return 'High Rain Risk'\n",
    "    elif row['Risk_Score'] > 0:\n",
    "        return 'Yellow Alert'\n",
    "    else:\n",
    "        return 'Normal'"
   ]
  },
  {
   "cell_type": "code",
   "execution_count": 8,
   "metadata": {},
   "outputs": [],
   "source": [
    "df['Alert_Level'] = df.apply(alert_level, axis=1)"
   ]
  },
  {
   "cell_type": "code",
   "execution_count": 9,
   "metadata": {},
   "outputs": [
    {
     "name": "stdout",
     "output_type": "stream",
     "text": [
      "         Date Disaster_Type  Temperature_C  Rain_mm  Risk_Score  \\\n",
      "0  2023-07-24     Hurricane           22.1     12.0           0   \n",
      "1  2023-03-08       Tornado           20.2    123.8           1   \n",
      "2  2023-04-13      Wildfire           20.5      5.6           1   \n",
      "3  2023-08-27    Earthquake           15.7      0.7           0   \n",
      "4  2023-09-03      Wildfire           28.7     16.1           0   \n",
      "5  2023-11-17     Hurricane           17.5      4.7           0   \n",
      "6  2023-09-06       Tornado           32.9     19.1           1   \n",
      "7  2023-11-01         Flood           22.5     19.9           0   \n",
      "8  2023-02-21         Flood           15.6     83.9           0   \n",
      "9  2023-04-03       Tornado           14.5    348.4           2   \n",
      "\n",
      "      Alert_Level  \n",
      "0          Normal  \n",
      "1  High Rain Risk  \n",
      "2    Yellow Alert  \n",
      "3          Normal  \n",
      "4          Normal  \n",
      "5          Normal  \n",
      "6    Yellow Alert  \n",
      "7          Normal  \n",
      "8          Normal  \n",
      "9  High Rain Risk  \n"
     ]
    }
   ],
   "source": [
    "print(df[['Date', 'Disaster_Type', 'Temperature_C', 'Rain_mm', 'Risk_Score', 'Alert_Level']].head(10))"
   ]
  },
  {
   "cell_type": "code",
   "execution_count": 10,
   "metadata": {},
   "outputs": [],
   "source": [
    "df.to_csv('updated_weather_disaster_dataset_with_alerts.csv', index=False)"
   ]
  },
  {
   "cell_type": "code",
   "execution_count": 11,
   "metadata": {},
   "outputs": [],
   "source": [
    "red_alerts = df[df['Alert_Level'] == 'Red Alert']\n",
    "orange_alerts = df[df['Alert_Level'] == 'Orange Alert']\n",
    "yellow_alerts = df[df['Alert_Level'] == 'Yellow Alert']"
   ]
  },
  {
   "cell_type": "code",
   "execution_count": 12,
   "metadata": {},
   "outputs": [
    {
     "name": "stdout",
     "output_type": "stream",
     "text": [
      "Red Alerts: 0\n",
      "Orange Alerts: 5\n",
      "Yellow Alerts: 67\n"
     ]
    }
   ],
   "source": [
    "print(f\"Red Alerts: {len(red_alerts)}\")\n",
    "print(f\"Orange Alerts: {len(orange_alerts)}\")\n",
    "print(f\"Yellow Alerts: {len(yellow_alerts)}\")"
   ]
  },
  {
   "cell_type": "code",
   "execution_count": null,
   "metadata": {},
   "outputs": [],
   "source": []
  }
 ],
 "metadata": {
  "kernelspec": {
   "display_name": "Python 3",
   "language": "python",
   "name": "python3"
  },
  "language_info": {
   "codemirror_mode": {
    "name": "ipython",
    "version": 3
   },
   "file_extension": ".py",
   "mimetype": "text/x-python",
   "name": "python",
   "nbconvert_exporter": "python",
   "pygments_lexer": "ipython3",
   "version": "3.8.5"
  }
 },
 "nbformat": 4,
 "nbformat_minor": 4
}
